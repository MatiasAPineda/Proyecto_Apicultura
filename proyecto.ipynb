{
 "cells": [
  {
   "cell_type": "code",
   "execution_count": 88,
   "metadata": {},
   "outputs": [],
   "source": [
    "import pandas as pd\n",
    "import numpy as np\n",
    "import plotly.express as px\n",
    "import geopandas as gpd\n",
    "import matplotlib.pyplot as plt\n",
    "from mpl_toolkits.axes_grid1 import make_axes_locatable\n",
    "import matplotlib.colors as colors"
   ]
  },
  {
   "cell_type": "markdown",
   "metadata": {},
   "source": [
    "# <img style=\"float: left; padding: 0px 10px 0px 0px;\" src=\"https://upload.wikimedia.org/wikipedia/commons/thumb/8/84/Escudo_de_la_Pontificia_Universidad_Cat%C3%B3lica_de_Chile.svg/1920px-Escudo_de_la_Pontificia_Universidad_Cat%C3%B3lica_de_Chile.svg.png\"  width=\"140\" /> **AGL253 - Apicultura Sustentable**\n",
    "**Pontificia Universidad Católica de Chile**<br>\n",
    "**Semestre 2023-2**<br>\n",
    "**Profesor:** Gabriel Nuñez Quijada <br>\n",
    "**Estudiantes:** Vicente Garay - Sofía Pereira - Benjamín Prieto - Matías Pineda -  Santiago Valenzuela"
   ]
  },
  {
   "cell_type": "markdown",
   "metadata": {},
   "source": [
    "# **Proyecto Final:** Riesgo de colmenares por incendios forestales en época estival, según región.\n",
    "---"
   ]
  },
  {
   "cell_type": "markdown",
   "metadata": {},
   "source": [
    "En el curso de la actualidad, los incendios forestales han emergido como una amenaza persistente que se cierne especialmente durante la temporada estival. Este fenómeno, exacerbado por los estragos continuos del cambio climático, ha dado lugar a un patrón ominoso que se ha arraigado desafortunadamente en la conciencia colectiva. Las temperaturas estivales, impulsadas por estos cambios climáticos, han experimentado un aumento constante, sumiendo a comunidades enteras en una vulnerabilidad ineludible frente a los devastadores incendios forestales.\n",
    "\n",
    "En el contexto de nuestra nación, esta realidad ambiental se manifiesta como una experiencia anual dolorosa, afectando a miles de personas y dejando cicatrices imborrables tanto en la geografía como en el tejido social. Es en este escenario que nos embarcamos en una investigación con el objetivo claro de arrojar luz sobre las áreas apícolas que han caído bajo la sombra amenazante de estos desastres naturales. Focalizándonos en la apicultura, una práctica de vital importancia para nuestras comunidades, buscamos proporcionar información esencial a nuestros colegas que dedican sus esfuerzos a esta labor, basándonos en datos recopilados por la CONAF desde el año 2014 hasta el 2021.\n",
    "\n",
    "En nuestra búsqueda, nos proponemos desentrañar la razón del peligro, dividiendo la cantidad de hectáreas afectadas por la cantidad de incendios. Este enfoque nos permitirá identificar las mejores zonas para ubicar colmenas y, a su vez, señalar aquellas áreas de mayor riesgo. El propósito fundamental de esta iniciativa es contribuir a la mejora y resiliencia de la apicultura en Chile, brindando un recurso valioso tanto a los apicultores establecidos como a aquellos que están considerando ingresar a este sector.\n",
    "\n",
    "Aspiramos a crear conciencia sobre las mejores prácticas para enfrentar la amenaza constante de los incendios forestales, promoviendo la identificación de áreas seguras y, al mismo tiempo, delineando estrategias para fortalecer la industria apícola en un entorno marcado por la inquietante regularidad de estos eventos naturales.\n"
   ]
  },
  {
   "cell_type": "markdown",
   "metadata": {},
   "source": [
    "Desde el punto de vista del contenido, la presentación debe incluir los elementos listados a continuación:\n",
    "- [ X ] Introducción del tema a exponer \n",
    "- [ ] Relación, comportamiento o utilización del tema por las abejas.\n",
    "- [ ] De qué manera el ser humano se ve beneficiado con lo investigado.\n",
    "- [ ] Método o forma de implementación de lo investigado.\n",
    "- [ ] Breve análisis de mercado o impacto económico. ¿Se comercializa? ¿Cómo? Cuánto cuesta? Si no se hace\n",
    "aún, ¿qué posibilidad existe de hacerlo?\n",
    "- [ ] Conclusión: De qué manera proyecta su investigación y porque alguien se interesaría en trabajar sobre ella. Para aquellos que no tienen un tema aún, pondré a disposición algunas ideas de temas para que se puedan inscribir.\n"
   ]
  },
  {
   "cell_type": "markdown",
   "metadata": {},
   "source": [
    "\n",
    "### Datos Obtenidos:\n",
    "---\n",
    "* https://www.conaf.cl/incendios-forestales/incendios-forestales-en-chile/estadisticas-historicas/ "
   ]
  },
  {
   "cell_type": "markdown",
   "metadata": {},
   "source": [
    "## Datos Cantidad de Incendios Forestales, sólo meses de Verano, por año y región.\n",
    "---"
   ]
  },
  {
   "cell_type": "code",
   "execution_count": 89,
   "metadata": {},
   "outputs": [],
   "source": [
    "years = np.arange(2014, 2022, 1)\n",
    "lista_incendios = {}\n",
    "for year in years:\n",
    "    incendios_mes = pd.read_csv(f'Data/Incendios/ocurrencia_mes_{year}_{year + 1}.csv')\n",
    "    incendios_mes = incendios_mes[(incendios_mes['MES'] == 'DICIEMBRE') | (incendios_mes['MES'] == 'ENERO') | \n",
    "                                  (incendios_mes['MES'] == 'FEBRERO') | (incendios_mes['MES'] == 'MARZO')]\n",
    "    lista_incendios[year] = incendios_mes.set_index('MES').T"
   ]
  },
  {
   "cell_type": "markdown",
   "metadata": {},
   "source": [
    "## Visualización Cantidad de Incendios Forestales: según Año, Mes y Región:\n",
    "---"
   ]
  },
  {
   "cell_type": "code",
   "execution_count": 90,
   "metadata": {},
   "outputs": [
    {
     "data": {
      "application/vnd.plotly.v1+json": {
       "config": {
        "plotlyServerURL": "https://plot.ly"
       },
       "data": [
        {
         "alignmentgroup": "True",
         "hovertemplate": "MES=DICIEMBRE<br>index=%{x}<br>Cantidad de Incendios=%{y}<extra></extra>",
         "legendgroup": "DICIEMBRE",
         "marker": {
          "color": "#636efa",
          "pattern": {
           "shape": ""
          }
         },
         "name": "DICIEMBRE",
         "offsetgroup": "DICIEMBRE",
         "orientation": "v",
         "showlegend": true,
         "textposition": "auto",
         "type": "bar",
         "x": [
          "III",
          "IV",
          "V",
          "RM",
          "VI",
          "VII",
          "VIII",
          "IX",
          "XIV",
          "X",
          "XI",
          "XII",
          "TOTAL"
         ],
         "xaxis": "x",
         "y": [
          0,
          13,
          184,
          121,
          33,
          125,
          596,
          157,
          8,
          34,
          8,
          4,
          1283
         ],
         "yaxis": "y"
        },
        {
         "alignmentgroup": "True",
         "hovertemplate": "MES=ENERO<br>index=%{x}<br>Cantidad de Incendios=%{y}<extra></extra>",
         "legendgroup": "ENERO",
         "marker": {
          "color": "#EF553B",
          "pattern": {
           "shape": ""
          }
         },
         "name": "ENERO",
         "offsetgroup": "ENERO",
         "orientation": "v",
         "showlegend": true,
         "textposition": "auto",
         "type": "bar",
         "x": [
          "III",
          "IV",
          "V",
          "RM",
          "VI",
          "VII",
          "VIII",
          "IX",
          "XIV",
          "X",
          "XI",
          "XII",
          "TOTAL"
         ],
         "xaxis": "x",
         "y": [
          0,
          13,
          141,
          111,
          75,
          183,
          866,
          421,
          35,
          79,
          2,
          8,
          1934
         ],
         "yaxis": "y"
        },
        {
         "alignmentgroup": "True",
         "hovertemplate": "MES=FEBRERO<br>index=%{x}<br>Cantidad de Incendios=%{y}<extra></extra>",
         "legendgroup": "FEBRERO",
         "marker": {
          "color": "#00cc96",
          "pattern": {
           "shape": ""
          }
         },
         "name": "FEBRERO",
         "offsetgroup": "FEBRERO",
         "orientation": "v",
         "showlegend": true,
         "textposition": "auto",
         "type": "bar",
         "x": [
          "III",
          "IV",
          "V",
          "RM",
          "VI",
          "VII",
          "VIII",
          "IX",
          "XIV",
          "X",
          "XI",
          "XII",
          "TOTAL"
         ],
         "xaxis": "x",
         "y": [
          0,
          13,
          113,
          78,
          51,
          129,
          831,
          447,
          60,
          169,
          7,
          5,
          1903
         ],
         "yaxis": "y"
        },
        {
         "alignmentgroup": "True",
         "hovertemplate": "MES=MARZO<br>index=%{x}<br>Cantidad de Incendios=%{y}<extra></extra>",
         "legendgroup": "MARZO",
         "marker": {
          "color": "#ab63fa",
          "pattern": {
           "shape": ""
          }
         },
         "name": "MARZO",
         "offsetgroup": "MARZO",
         "orientation": "v",
         "showlegend": true,
         "textposition": "auto",
         "type": "bar",
         "x": [
          "III",
          "IV",
          "V",
          "RM",
          "VI",
          "VII",
          "VIII",
          "IX",
          "XIV",
          "X",
          "XI",
          "XII",
          "TOTAL"
         ],
         "xaxis": "x",
         "y": [
          0,
          7,
          96,
          38,
          26,
          107,
          698,
          361,
          38,
          135,
          3,
          1,
          1510
         ],
         "yaxis": "y"
        }
       ],
       "layout": {
        "barmode": "group",
        "legend": {
         "title": {
          "text": "MES"
         },
         "tracegroupgap": 0
        },
        "template": {
         "data": {
          "bar": [
           {
            "error_x": {
             "color": "#f2f5fa"
            },
            "error_y": {
             "color": "#f2f5fa"
            },
            "marker": {
             "line": {
              "color": "rgb(17,17,17)",
              "width": 0.5
             },
             "pattern": {
              "fillmode": "overlay",
              "size": 10,
              "solidity": 0.2
             }
            },
            "type": "bar"
           }
          ],
          "barpolar": [
           {
            "marker": {
             "line": {
              "color": "rgb(17,17,17)",
              "width": 0.5
             },
             "pattern": {
              "fillmode": "overlay",
              "size": 10,
              "solidity": 0.2
             }
            },
            "type": "barpolar"
           }
          ],
          "carpet": [
           {
            "aaxis": {
             "endlinecolor": "#A2B1C6",
             "gridcolor": "#506784",
             "linecolor": "#506784",
             "minorgridcolor": "#506784",
             "startlinecolor": "#A2B1C6"
            },
            "baxis": {
             "endlinecolor": "#A2B1C6",
             "gridcolor": "#506784",
             "linecolor": "#506784",
             "minorgridcolor": "#506784",
             "startlinecolor": "#A2B1C6"
            },
            "type": "carpet"
           }
          ],
          "choropleth": [
           {
            "colorbar": {
             "outlinewidth": 0,
             "ticks": ""
            },
            "type": "choropleth"
           }
          ],
          "contour": [
           {
            "colorbar": {
             "outlinewidth": 0,
             "ticks": ""
            },
            "colorscale": [
             [
              0,
              "#0d0887"
             ],
             [
              0.1111111111111111,
              "#46039f"
             ],
             [
              0.2222222222222222,
              "#7201a8"
             ],
             [
              0.3333333333333333,
              "#9c179e"
             ],
             [
              0.4444444444444444,
              "#bd3786"
             ],
             [
              0.5555555555555556,
              "#d8576b"
             ],
             [
              0.6666666666666666,
              "#ed7953"
             ],
             [
              0.7777777777777778,
              "#fb9f3a"
             ],
             [
              0.8888888888888888,
              "#fdca26"
             ],
             [
              1,
              "#f0f921"
             ]
            ],
            "type": "contour"
           }
          ],
          "contourcarpet": [
           {
            "colorbar": {
             "outlinewidth": 0,
             "ticks": ""
            },
            "type": "contourcarpet"
           }
          ],
          "heatmap": [
           {
            "colorbar": {
             "outlinewidth": 0,
             "ticks": ""
            },
            "colorscale": [
             [
              0,
              "#0d0887"
             ],
             [
              0.1111111111111111,
              "#46039f"
             ],
             [
              0.2222222222222222,
              "#7201a8"
             ],
             [
              0.3333333333333333,
              "#9c179e"
             ],
             [
              0.4444444444444444,
              "#bd3786"
             ],
             [
              0.5555555555555556,
              "#d8576b"
             ],
             [
              0.6666666666666666,
              "#ed7953"
             ],
             [
              0.7777777777777778,
              "#fb9f3a"
             ],
             [
              0.8888888888888888,
              "#fdca26"
             ],
             [
              1,
              "#f0f921"
             ]
            ],
            "type": "heatmap"
           }
          ],
          "heatmapgl": [
           {
            "colorbar": {
             "outlinewidth": 0,
             "ticks": ""
            },
            "colorscale": [
             [
              0,
              "#0d0887"
             ],
             [
              0.1111111111111111,
              "#46039f"
             ],
             [
              0.2222222222222222,
              "#7201a8"
             ],
             [
              0.3333333333333333,
              "#9c179e"
             ],
             [
              0.4444444444444444,
              "#bd3786"
             ],
             [
              0.5555555555555556,
              "#d8576b"
             ],
             [
              0.6666666666666666,
              "#ed7953"
             ],
             [
              0.7777777777777778,
              "#fb9f3a"
             ],
             [
              0.8888888888888888,
              "#fdca26"
             ],
             [
              1,
              "#f0f921"
             ]
            ],
            "type": "heatmapgl"
           }
          ],
          "histogram": [
           {
            "marker": {
             "pattern": {
              "fillmode": "overlay",
              "size": 10,
              "solidity": 0.2
             }
            },
            "type": "histogram"
           }
          ],
          "histogram2d": [
           {
            "colorbar": {
             "outlinewidth": 0,
             "ticks": ""
            },
            "colorscale": [
             [
              0,
              "#0d0887"
             ],
             [
              0.1111111111111111,
              "#46039f"
             ],
             [
              0.2222222222222222,
              "#7201a8"
             ],
             [
              0.3333333333333333,
              "#9c179e"
             ],
             [
              0.4444444444444444,
              "#bd3786"
             ],
             [
              0.5555555555555556,
              "#d8576b"
             ],
             [
              0.6666666666666666,
              "#ed7953"
             ],
             [
              0.7777777777777778,
              "#fb9f3a"
             ],
             [
              0.8888888888888888,
              "#fdca26"
             ],
             [
              1,
              "#f0f921"
             ]
            ],
            "type": "histogram2d"
           }
          ],
          "histogram2dcontour": [
           {
            "colorbar": {
             "outlinewidth": 0,
             "ticks": ""
            },
            "colorscale": [
             [
              0,
              "#0d0887"
             ],
             [
              0.1111111111111111,
              "#46039f"
             ],
             [
              0.2222222222222222,
              "#7201a8"
             ],
             [
              0.3333333333333333,
              "#9c179e"
             ],
             [
              0.4444444444444444,
              "#bd3786"
             ],
             [
              0.5555555555555556,
              "#d8576b"
             ],
             [
              0.6666666666666666,
              "#ed7953"
             ],
             [
              0.7777777777777778,
              "#fb9f3a"
             ],
             [
              0.8888888888888888,
              "#fdca26"
             ],
             [
              1,
              "#f0f921"
             ]
            ],
            "type": "histogram2dcontour"
           }
          ],
          "mesh3d": [
           {
            "colorbar": {
             "outlinewidth": 0,
             "ticks": ""
            },
            "type": "mesh3d"
           }
          ],
          "parcoords": [
           {
            "line": {
             "colorbar": {
              "outlinewidth": 0,
              "ticks": ""
             }
            },
            "type": "parcoords"
           }
          ],
          "pie": [
           {
            "automargin": true,
            "type": "pie"
           }
          ],
          "scatter": [
           {
            "marker": {
             "line": {
              "color": "#283442"
             }
            },
            "type": "scatter"
           }
          ],
          "scatter3d": [
           {
            "line": {
             "colorbar": {
              "outlinewidth": 0,
              "ticks": ""
             }
            },
            "marker": {
             "colorbar": {
              "outlinewidth": 0,
              "ticks": ""
             }
            },
            "type": "scatter3d"
           }
          ],
          "scattercarpet": [
           {
            "marker": {
             "colorbar": {
              "outlinewidth": 0,
              "ticks": ""
             }
            },
            "type": "scattercarpet"
           }
          ],
          "scattergeo": [
           {
            "marker": {
             "colorbar": {
              "outlinewidth": 0,
              "ticks": ""
             }
            },
            "type": "scattergeo"
           }
          ],
          "scattergl": [
           {
            "marker": {
             "line": {
              "color": "#283442"
             }
            },
            "type": "scattergl"
           }
          ],
          "scattermapbox": [
           {
            "marker": {
             "colorbar": {
              "outlinewidth": 0,
              "ticks": ""
             }
            },
            "type": "scattermapbox"
           }
          ],
          "scatterpolar": [
           {
            "marker": {
             "colorbar": {
              "outlinewidth": 0,
              "ticks": ""
             }
            },
            "type": "scatterpolar"
           }
          ],
          "scatterpolargl": [
           {
            "marker": {
             "colorbar": {
              "outlinewidth": 0,
              "ticks": ""
             }
            },
            "type": "scatterpolargl"
           }
          ],
          "scatterternary": [
           {
            "marker": {
             "colorbar": {
              "outlinewidth": 0,
              "ticks": ""
             }
            },
            "type": "scatterternary"
           }
          ],
          "surface": [
           {
            "colorbar": {
             "outlinewidth": 0,
             "ticks": ""
            },
            "colorscale": [
             [
              0,
              "#0d0887"
             ],
             [
              0.1111111111111111,
              "#46039f"
             ],
             [
              0.2222222222222222,
              "#7201a8"
             ],
             [
              0.3333333333333333,
              "#9c179e"
             ],
             [
              0.4444444444444444,
              "#bd3786"
             ],
             [
              0.5555555555555556,
              "#d8576b"
             ],
             [
              0.6666666666666666,
              "#ed7953"
             ],
             [
              0.7777777777777778,
              "#fb9f3a"
             ],
             [
              0.8888888888888888,
              "#fdca26"
             ],
             [
              1,
              "#f0f921"
             ]
            ],
            "type": "surface"
           }
          ],
          "table": [
           {
            "cells": {
             "fill": {
              "color": "#506784"
             },
             "line": {
              "color": "rgb(17,17,17)"
             }
            },
            "header": {
             "fill": {
              "color": "#2a3f5f"
             },
             "line": {
              "color": "rgb(17,17,17)"
             }
            },
            "type": "table"
           }
          ]
         },
         "layout": {
          "annotationdefaults": {
           "arrowcolor": "#f2f5fa",
           "arrowhead": 0,
           "arrowwidth": 1
          },
          "autotypenumbers": "strict",
          "coloraxis": {
           "colorbar": {
            "outlinewidth": 0,
            "ticks": ""
           }
          },
          "colorscale": {
           "diverging": [
            [
             0,
             "#8e0152"
            ],
            [
             0.1,
             "#c51b7d"
            ],
            [
             0.2,
             "#de77ae"
            ],
            [
             0.3,
             "#f1b6da"
            ],
            [
             0.4,
             "#fde0ef"
            ],
            [
             0.5,
             "#f7f7f7"
            ],
            [
             0.6,
             "#e6f5d0"
            ],
            [
             0.7,
             "#b8e186"
            ],
            [
             0.8,
             "#7fbc41"
            ],
            [
             0.9,
             "#4d9221"
            ],
            [
             1,
             "#276419"
            ]
           ],
           "sequential": [
            [
             0,
             "#0d0887"
            ],
            [
             0.1111111111111111,
             "#46039f"
            ],
            [
             0.2222222222222222,
             "#7201a8"
            ],
            [
             0.3333333333333333,
             "#9c179e"
            ],
            [
             0.4444444444444444,
             "#bd3786"
            ],
            [
             0.5555555555555556,
             "#d8576b"
            ],
            [
             0.6666666666666666,
             "#ed7953"
            ],
            [
             0.7777777777777778,
             "#fb9f3a"
            ],
            [
             0.8888888888888888,
             "#fdca26"
            ],
            [
             1,
             "#f0f921"
            ]
           ],
           "sequentialminus": [
            [
             0,
             "#0d0887"
            ],
            [
             0.1111111111111111,
             "#46039f"
            ],
            [
             0.2222222222222222,
             "#7201a8"
            ],
            [
             0.3333333333333333,
             "#9c179e"
            ],
            [
             0.4444444444444444,
             "#bd3786"
            ],
            [
             0.5555555555555556,
             "#d8576b"
            ],
            [
             0.6666666666666666,
             "#ed7953"
            ],
            [
             0.7777777777777778,
             "#fb9f3a"
            ],
            [
             0.8888888888888888,
             "#fdca26"
            ],
            [
             1,
             "#f0f921"
            ]
           ]
          },
          "colorway": [
           "#636efa",
           "#EF553B",
           "#00cc96",
           "#ab63fa",
           "#FFA15A",
           "#19d3f3",
           "#FF6692",
           "#B6E880",
           "#FF97FF",
           "#FECB52"
          ],
          "font": {
           "color": "#f2f5fa"
          },
          "geo": {
           "bgcolor": "rgb(17,17,17)",
           "lakecolor": "rgb(17,17,17)",
           "landcolor": "rgb(17,17,17)",
           "showlakes": true,
           "showland": true,
           "subunitcolor": "#506784"
          },
          "hoverlabel": {
           "align": "left"
          },
          "hovermode": "closest",
          "mapbox": {
           "style": "dark"
          },
          "paper_bgcolor": "rgb(17,17,17)",
          "plot_bgcolor": "rgb(17,17,17)",
          "polar": {
           "angularaxis": {
            "gridcolor": "#506784",
            "linecolor": "#506784",
            "ticks": ""
           },
           "bgcolor": "rgb(17,17,17)",
           "radialaxis": {
            "gridcolor": "#506784",
            "linecolor": "#506784",
            "ticks": ""
           }
          },
          "scene": {
           "xaxis": {
            "backgroundcolor": "rgb(17,17,17)",
            "gridcolor": "#506784",
            "gridwidth": 2,
            "linecolor": "#506784",
            "showbackground": true,
            "ticks": "",
            "zerolinecolor": "#C8D4E3"
           },
           "yaxis": {
            "backgroundcolor": "rgb(17,17,17)",
            "gridcolor": "#506784",
            "gridwidth": 2,
            "linecolor": "#506784",
            "showbackground": true,
            "ticks": "",
            "zerolinecolor": "#C8D4E3"
           },
           "zaxis": {
            "backgroundcolor": "rgb(17,17,17)",
            "gridcolor": "#506784",
            "gridwidth": 2,
            "linecolor": "#506784",
            "showbackground": true,
            "ticks": "",
            "zerolinecolor": "#C8D4E3"
           }
          },
          "shapedefaults": {
           "line": {
            "color": "#f2f5fa"
           }
          },
          "sliderdefaults": {
           "bgcolor": "#C8D4E3",
           "bordercolor": "rgb(17,17,17)",
           "borderwidth": 1,
           "tickwidth": 0
          },
          "ternary": {
           "aaxis": {
            "gridcolor": "#506784",
            "linecolor": "#506784",
            "ticks": ""
           },
           "baxis": {
            "gridcolor": "#506784",
            "linecolor": "#506784",
            "ticks": ""
           },
           "bgcolor": "rgb(17,17,17)",
           "caxis": {
            "gridcolor": "#506784",
            "linecolor": "#506784",
            "ticks": ""
           }
          },
          "title": {
           "x": 0.05
          },
          "updatemenudefaults": {
           "bgcolor": "#506784",
           "borderwidth": 0
          },
          "xaxis": {
           "automargin": true,
           "gridcolor": "#283442",
           "linecolor": "#506784",
           "ticks": "",
           "title": {
            "standoff": 15
           },
           "zerolinecolor": "#283442",
           "zerolinewidth": 2
          },
          "yaxis": {
           "automargin": true,
           "gridcolor": "#283442",
           "linecolor": "#506784",
           "ticks": "",
           "title": {
            "standoff": 15
           },
           "zerolinecolor": "#283442",
           "zerolinewidth": 2
          }
         }
        },
        "title": {
         "text": "Cantidad de Incendios por Mes y Región (2014)"
        },
        "updatemenus": [
         {
          "buttons": [
           {
            "args": [
             {
              "x": [
               [
                "III",
                "IV",
                "V",
                "RM",
                "VI",
                "VII",
                "VIII",
                "IX",
                "XIV",
                "X",
                "XI",
                "XII",
                "TOTAL"
               ]
              ],
              "y": [
               [
                0,
                13,
                184,
                121,
                33,
                125,
                596,
                157,
                8,
                34,
                8,
                4,
                1283
               ],
               [
                0,
                13,
                141,
                111,
                75,
                183,
                866,
                421,
                35,
                79,
                2,
                8,
                1934
               ],
               [
                0,
                13,
                113,
                78,
                51,
                129,
                831,
                447,
                60,
                169,
                7,
                5,
                1903
               ],
               [
                0,
                7,
                96,
                38,
                26,
                107,
                698,
                361,
                38,
                135,
                3,
                1,
                1510
               ]
              ]
             },
             {
              "title": "Cantidad de Incendios por Mes y Región (2014)",
              "xaxis.categoryorder": "total ascending"
             }
            ],
            "label": "2014",
            "method": "update"
           },
           {
            "args": [
             {
              "x": [
               [
                "III",
                "IV",
                "V",
                "RM",
                "VI",
                "VII",
                "VIII",
                "IX",
                "XIV",
                "X",
                "XI",
                "XII",
                "TOTAL"
               ]
              ],
              "y": [
               [
                3,
                20,
                149,
                81,
                38,
                148,
                352,
                81,
                13,
                19,
                9,
                2,
                915
               ],
               [
                3,
                22,
                192,
                40,
                51,
                159,
                618,
                239,
                42,
                61,
                15,
                11,
                1453
               ],
               [
                10,
                35,
                193,
                72,
                46,
                229,
                790,
                444,
                52,
                107,
                8,
                5,
                1991
               ],
               [
                3,
                9,
                94,
                40,
                39,
                172,
                671,
                473,
                62,
                109,
                3,
                2,
                1677
               ]
              ]
             },
             {
              "title": "Cantidad de Incendios por Mes y Región (2015)",
              "xaxis.categoryorder": "total ascending"
             }
            ],
            "label": "2015",
            "method": "update"
           },
           {
            "args": [
             {
              "x": [
               [
                "XV",
                "I",
                "II",
                "III",
                "IV",
                "V",
                "RM",
                "VI",
                "VII",
                "VIII",
                "IX",
                "XIV",
                "X",
                "XI",
                "XII",
                "TOTAL"
               ]
              ],
              "y": [
               [
                0,
                0,
                0,
                2,
                22,
                166,
                79,
                74,
                136,
                362,
                101,
                9,
                17,
                4,
                3,
                975
               ],
               [
                1,
                0,
                0,
                1,
                23,
                179,
                80,
                63,
                200,
                720,
                222,
                23,
                21,
                0,
                5,
                1538
               ],
               [
                0,
                0,
                0,
                0,
                10,
                109,
                44,
                32,
                74,
                238,
                150,
                21,
                20,
                0,
                3,
                701
               ],
               [
                0,
                0,
                0,
                2,
                9,
                92,
                26,
                19,
                81,
                242,
                157,
                14,
                5,
                0,
                0,
                647
               ]
              ]
             },
             {
              "title": "Cantidad de Incendios por Mes y Región (2016)",
              "xaxis.categoryorder": "total ascending"
             }
            ],
            "label": "2016",
            "method": "update"
           },
           {
            "args": [
             {
              "x": [
               [
                "XV",
                "I",
                "II",
                "III",
                "IV",
                "V",
                "RM",
                "VI",
                "VII",
                "VIII",
                "IX",
                "XIV",
                "X",
                "XI",
                "XII",
                "TOTAL"
               ]
              ],
              "y": [
               [
                2,
                0,
                0,
                5,
                21,
                184,
                118,
                47,
                125,
                279,
                170,
                10,
                22,
                7,
                3,
                993
               ],
               [
                0,
                0,
                0,
                1,
                22,
                189,
                94,
                78,
                204,
                633,
                261,
                27,
                33,
                4,
                3,
                1549
               ],
               [
                2,
                0,
                0,
                4,
                24,
                119,
                85,
                60,
                168,
                573,
                288,
                20,
                47,
                6,
                2,
                1398
               ],
               [
                0,
                0,
                0,
                3,
                11,
                178,
                63,
                55,
                190,
                403,
                148,
                19,
                17,
                1,
                1,
                1089
               ]
              ]
             },
             {
              "title": "Cantidad de Incendios por Mes y Región (2017)",
              "xaxis.categoryorder": "total ascending"
             }
            ],
            "label": "2017",
            "method": "update"
           },
           {
            "args": [
             {
              "x": [
               [
                "XV",
                "I",
                "II",
                "III",
                "IV",
                "V",
                "RM",
                "VI",
                "VII",
                "XVI",
                "VIII",
                "IX",
                "XIV",
                "X",
                "XI",
                "XII",
                "TOTAL"
               ]
              ],
              "y": [
               [
                0,
                0,
                0,
                7,
                9,
                192,
                92,
                58,
                159,
                44,
                281,
                158,
                4,
                32,
                7,
                4,
                1047
               ],
               [
                4,
                0,
                0,
                8,
                15,
                171,
                106,
                89,
                238,
                140,
                594,
                299,
                16,
                27,
                6,
                5,
                1718
               ],
               [
                0,
                0,
                0,
                1,
                8,
                115,
                71,
                52,
                178,
                143,
                487,
                334,
                42,
                54,
                15,
                5,
                1505
               ],
               [
                2,
                0,
                0,
                3,
                9,
                120,
                63,
                59,
                175,
                90,
                416,
                355,
                49,
                21,
                4,
                1,
                1367
               ]
              ]
             },
             {
              "title": "Cantidad de Incendios por Mes y Región (2018)",
              "xaxis.categoryorder": "total ascending"
             }
            ],
            "label": "2018",
            "method": "update"
           },
           {
            "args": [
             {
              "x": [
               [
                "XV",
                "I",
                "II",
                "III",
                "IV",
                "V",
                "RM",
                "VI",
                "VII",
                "XVI",
                "VIII",
                "IX",
                "XIV",
                "X",
                "XI",
                "XII",
                "TOTAL"
               ]
              ],
              "y": [
               [
                2,
                0,
                2,
                6,
                9,
                99,
                82,
                81,
                233,
                59,
                488,
                193,
                12,
                20,
                2,
                1,
                1289
               ],
               [
                0,
                0,
                0,
                4,
                12,
                87,
                46,
                73,
                242,
                102,
                604,
                319,
                27,
                37,
                3,
                2,
                1558
               ],
               [
                0,
                0,
                1,
                3,
                8,
                73,
                44,
                55,
                207,
                107,
                566,
                390,
                33,
                37,
                1,
                1,
                1526
               ],
               [
                0,
                0,
                0,
                5,
                7,
                62,
                29,
                34,
                150,
                88,
                479,
                431,
                26,
                28,
                3,
                2,
                1344
               ]
              ]
             },
             {
              "title": "Cantidad de Incendios por Mes y Región (2019)",
              "xaxis.categoryorder": "total ascending"
             }
            ],
            "label": "2019",
            "method": "update"
           },
           {
            "args": [
             {
              "x": [
               [
                "XV",
                "I",
                "II",
                "III",
                "IV",
                "V",
                "RM",
                "VI",
                "VII",
                "XVI",
                "VIII",
                "IX",
                "XIV",
                "X",
                "XI",
                "XII",
                "TOTAL"
               ]
              ],
              "y": [
               [
                0,
                0,
                1,
                1,
                6,
                71,
                74,
                56,
                150,
                102,
                457,
                129,
                12,
                30,
                4,
                1,
                1094
               ],
               [
                1,
                1,
                1,
                2,
                11,
                75,
                58,
                45,
                176,
                105,
                697,
                238,
                20,
                53,
                2,
                3,
                1488
               ],
               [
                2,
                0,
                0,
                3,
                6,
                33,
                13,
                16,
                64,
                49,
                453,
                242,
                47,
                107,
                19,
                7,
                1061
               ],
               [
                1,
                0,
                0,
                0,
                4,
                57,
                32,
                26,
                98,
                65,
                470,
                316,
                44,
                99,
                11,
                4,
                1227
               ]
              ]
             },
             {
              "title": "Cantidad de Incendios por Mes y Región (2020)",
              "xaxis.categoryorder": "total ascending"
             }
            ],
            "label": "2020",
            "method": "update"
           },
           {
            "args": [
             {
              "x": [
               [
                "XV",
                "I",
                "II",
                "III",
                "IV",
                "V",
                "RM",
                "VI",
                "VII",
                "XVI",
                "VIII",
                "IX",
                "XIV",
                "X",
                "XI",
                "XII",
                "TOTAL"
               ]
              ],
              "y": [
               [
                2,
                0,
                0,
                3,
                7,
                73,
                39,
                52,
                152,
                75,
                441,
                286,
                26,
                88,
                10,
                4,
                1258
               ],
               [
                0,
                0,
                0,
                2,
                9,
                80,
                42,
                56,
                203,
                102,
                431,
                254,
                21,
                32,
                2,
                4,
                1238
               ],
               [
                1,
                0,
                0,
                0,
                6,
                62,
                37,
                41,
                169,
                125,
                674,
                416,
                38,
                73,
                5,
                1,
                1648
               ],
               [
                0,
                0,
                0,
                1,
                8,
                58,
                29,
                54,
                166,
                110,
                427,
                187,
                6,
                8,
                1,
                0,
                1055
               ]
              ]
             },
             {
              "title": "Cantidad de Incendios por Mes y Región (2021)",
              "xaxis.categoryorder": "total ascending"
             }
            ],
            "label": "2021",
            "method": "update"
           }
          ],
          "name": "Seleccionar Año",
          "type": "dropdown"
         }
        ],
        "xaxis": {
         "anchor": "y",
         "domain": [
          0,
          1
         ],
         "title": {
          "text": "Region"
         }
        },
        "yaxis": {
         "anchor": "x",
         "domain": [
          0,
          1
         ],
         "title": {
          "text": "Cantidad de Incendios"
         }
        }
       }
      }
     },
     "metadata": {},
     "output_type": "display_data"
    }
   ],
   "source": [
    "selected_year = years[0]\n",
    "fig = px.bar(lista_incendios[selected_year], x=lista_incendios[selected_year].index, y=lista_incendios[selected_year].columns,\n",
    "             title=f'Cantidad de Incendios por Mes y Región ({selected_year})',\n",
    "             labels={'value': 'Cantidad de Incendios', 'variable': 'Mes'},\n",
    "             template='plotly_dark', barmode='group')\n",
    "\n",
    "fig.update_layout(updatemenus=[{'type': 'dropdown',\n",
    "                                'name': 'Seleccionar Año',\n",
    "                                'buttons': [{'label': str(year),\n",
    "                                             'method': 'update',\n",
    "                                             'args': [{'x': [lista_incendios[year].index],\n",
    "                                                       'y': [lista_incendios[year][col] for col in lista_incendios[year].columns]},\n",
    "                                                      {'xaxis.categoryorder': 'total ascending',\n",
    "                                                       'title': f'Cantidad de Incendios por Mes y Región ({year})'}]}\n",
    "                                            for year in years]}])\n",
    "\n",
    "fig.update_xaxes(title_text='Region')\n",
    "fig.show()"
   ]
  },
  {
   "cell_type": "markdown",
   "metadata": {},
   "source": [
    "## Datos Cantidad de Hectáreas Dañadas por Incendios Forestales, sólo meses de Verano, por año y región.\n",
    "---"
   ]
  },
  {
   "cell_type": "code",
   "execution_count": 91,
   "metadata": {},
   "outputs": [],
   "source": [
    "years = np.arange(2014, 2022, 1)\n",
    "lista_hectareas = {}\n",
    "for year in years:\n",
    "    hectareas_mes = pd.read_csv(f'Data/Danos/dano_hectareas_mes ({year} - {year + 1}).csv')\n",
    "    hectareas_mes = hectareas_mes[(hectareas_mes['MES'] == 'DICIEMBRE') | (hectareas_mes['MES'] == 'ENERO') | \n",
    "                                  (hectareas_mes['MES'] == 'FEBRERO') | (hectareas_mes['MES'] == 'MARZO')]\n",
    "    lista_hectareas[year] = hectareas_mes.set_index('MES').T"
   ]
  },
  {
   "cell_type": "markdown",
   "metadata": {},
   "source": [
    "## Visualización Cantidad de Hectáreas Dañadas por Incendios Forestales: según Año, Mes y Región:\n",
    "---"
   ]
  },
  {
   "cell_type": "code",
   "execution_count": 92,
   "metadata": {},
   "outputs": [
    {
     "data": {
      "application/vnd.plotly.v1+json": {
       "config": {
        "plotlyServerURL": "https://plot.ly"
       },
       "data": [
        {
         "alignmentgroup": "True",
         "hovertemplate": "MES=DICIEMBRE<br>index=%{x}<br>Cantidad de Hectareas=%{y}<extra></extra>",
         "legendgroup": "DICIEMBRE",
         "marker": {
          "color": "#636efa",
          "pattern": {
           "shape": ""
          }
         },
         "name": "DICIEMBRE",
         "offsetgroup": "DICIEMBRE",
         "orientation": "v",
         "showlegend": true,
         "textposition": "auto",
         "type": "bar",
         "x": [
          "III",
          "IV",
          "V",
          "RM",
          "VI",
          "VII",
          "VIII",
          "IX",
          "XIV",
          "X",
          "XI",
          "XII"
         ],
         "xaxis": "x",
         "y": [
          0,
          7.4,
          1270.7,
          297.8,
          125.5,
          312.5,
          1272,
          251.3,
          7.7,
          19.3,
          8.2,
          0
         ],
         "yaxis": "y"
        },
        {
         "alignmentgroup": "True",
         "hovertemplate": "MES=ENERO<br>index=%{x}<br>Cantidad de Hectareas=%{y}<extra></extra>",
         "legendgroup": "ENERO",
         "marker": {
          "color": "#EF553B",
          "pattern": {
           "shape": ""
          }
         },
         "name": "ENERO",
         "offsetgroup": "ENERO",
         "orientation": "v",
         "showlegend": true,
         "textposition": "auto",
         "type": "bar",
         "x": [
          "III",
          "IV",
          "V",
          "RM",
          "VI",
          "VII",
          "VIII",
          "IX",
          "XIV",
          "X",
          "XI",
          "XII"
         ],
         "xaxis": "x",
         "y": [
          0,
          20.7,
          341.1,
          869.9,
          5082.4,
          17115.6,
          4412.3,
          6082.8,
          65.7,
          2365.5,
          3.3,
          0.1
         ],
         "yaxis": "y"
        },
        {
         "alignmentgroup": "True",
         "hovertemplate": "MES=FEBRERO<br>index=%{x}<br>Cantidad de Hectareas=%{y}<extra></extra>",
         "legendgroup": "FEBRERO",
         "marker": {
          "color": "#00cc96",
          "pattern": {
           "shape": ""
          }
         },
         "name": "FEBRERO",
         "offsetgroup": "FEBRERO",
         "orientation": "v",
         "showlegend": true,
         "textposition": "auto",
         "type": "bar",
         "x": [
          "III",
          "IV",
          "V",
          "RM",
          "VI",
          "VII",
          "VIII",
          "IX",
          "XIV",
          "X",
          "XI",
          "XII"
         ],
         "xaxis": "x",
         "y": [
          0,
          25.7,
          800.7,
          221.9,
          3635.1,
          4551.3,
          24544.2,
          18759.4,
          390.9,
          1842.9,
          66.6,
          3.1
         ],
         "yaxis": "y"
        },
        {
         "alignmentgroup": "True",
         "hovertemplate": "MES=MARZO<br>index=%{x}<br>Cantidad de Hectareas=%{y}<extra></extra>",
         "legendgroup": "MARZO",
         "marker": {
          "color": "#ab63fa",
          "pattern": {
           "shape": ""
          }
         },
         "name": "MARZO",
         "offsetgroup": "MARZO",
         "orientation": "v",
         "showlegend": true,
         "textposition": "auto",
         "type": "bar",
         "x": [
          "III",
          "IV",
          "V",
          "RM",
          "VI",
          "VII",
          "VIII",
          "IX",
          "XIV",
          "X",
          "XI",
          "XII"
         ],
         "xaxis": "x",
         "y": [
          0,
          74,
          849.9,
          687.8,
          747.3,
          1281,
          4786.5,
          20708.2,
          296.7,
          652.5,
          0.2,
          0.9
         ],
         "yaxis": "y"
        }
       ],
       "layout": {
        "barmode": "group",
        "legend": {
         "title": {
          "text": "MES"
         },
         "tracegroupgap": 0
        },
        "template": {
         "data": {
          "bar": [
           {
            "error_x": {
             "color": "#f2f5fa"
            },
            "error_y": {
             "color": "#f2f5fa"
            },
            "marker": {
             "line": {
              "color": "rgb(17,17,17)",
              "width": 0.5
             },
             "pattern": {
              "fillmode": "overlay",
              "size": 10,
              "solidity": 0.2
             }
            },
            "type": "bar"
           }
          ],
          "barpolar": [
           {
            "marker": {
             "line": {
              "color": "rgb(17,17,17)",
              "width": 0.5
             },
             "pattern": {
              "fillmode": "overlay",
              "size": 10,
              "solidity": 0.2
             }
            },
            "type": "barpolar"
           }
          ],
          "carpet": [
           {
            "aaxis": {
             "endlinecolor": "#A2B1C6",
             "gridcolor": "#506784",
             "linecolor": "#506784",
             "minorgridcolor": "#506784",
             "startlinecolor": "#A2B1C6"
            },
            "baxis": {
             "endlinecolor": "#A2B1C6",
             "gridcolor": "#506784",
             "linecolor": "#506784",
             "minorgridcolor": "#506784",
             "startlinecolor": "#A2B1C6"
            },
            "type": "carpet"
           }
          ],
          "choropleth": [
           {
            "colorbar": {
             "outlinewidth": 0,
             "ticks": ""
            },
            "type": "choropleth"
           }
          ],
          "contour": [
           {
            "colorbar": {
             "outlinewidth": 0,
             "ticks": ""
            },
            "colorscale": [
             [
              0,
              "#0d0887"
             ],
             [
              0.1111111111111111,
              "#46039f"
             ],
             [
              0.2222222222222222,
              "#7201a8"
             ],
             [
              0.3333333333333333,
              "#9c179e"
             ],
             [
              0.4444444444444444,
              "#bd3786"
             ],
             [
              0.5555555555555556,
              "#d8576b"
             ],
             [
              0.6666666666666666,
              "#ed7953"
             ],
             [
              0.7777777777777778,
              "#fb9f3a"
             ],
             [
              0.8888888888888888,
              "#fdca26"
             ],
             [
              1,
              "#f0f921"
             ]
            ],
            "type": "contour"
           }
          ],
          "contourcarpet": [
           {
            "colorbar": {
             "outlinewidth": 0,
             "ticks": ""
            },
            "type": "contourcarpet"
           }
          ],
          "heatmap": [
           {
            "colorbar": {
             "outlinewidth": 0,
             "ticks": ""
            },
            "colorscale": [
             [
              0,
              "#0d0887"
             ],
             [
              0.1111111111111111,
              "#46039f"
             ],
             [
              0.2222222222222222,
              "#7201a8"
             ],
             [
              0.3333333333333333,
              "#9c179e"
             ],
             [
              0.4444444444444444,
              "#bd3786"
             ],
             [
              0.5555555555555556,
              "#d8576b"
             ],
             [
              0.6666666666666666,
              "#ed7953"
             ],
             [
              0.7777777777777778,
              "#fb9f3a"
             ],
             [
              0.8888888888888888,
              "#fdca26"
             ],
             [
              1,
              "#f0f921"
             ]
            ],
            "type": "heatmap"
           }
          ],
          "heatmapgl": [
           {
            "colorbar": {
             "outlinewidth": 0,
             "ticks": ""
            },
            "colorscale": [
             [
              0,
              "#0d0887"
             ],
             [
              0.1111111111111111,
              "#46039f"
             ],
             [
              0.2222222222222222,
              "#7201a8"
             ],
             [
              0.3333333333333333,
              "#9c179e"
             ],
             [
              0.4444444444444444,
              "#bd3786"
             ],
             [
              0.5555555555555556,
              "#d8576b"
             ],
             [
              0.6666666666666666,
              "#ed7953"
             ],
             [
              0.7777777777777778,
              "#fb9f3a"
             ],
             [
              0.8888888888888888,
              "#fdca26"
             ],
             [
              1,
              "#f0f921"
             ]
            ],
            "type": "heatmapgl"
           }
          ],
          "histogram": [
           {
            "marker": {
             "pattern": {
              "fillmode": "overlay",
              "size": 10,
              "solidity": 0.2
             }
            },
            "type": "histogram"
           }
          ],
          "histogram2d": [
           {
            "colorbar": {
             "outlinewidth": 0,
             "ticks": ""
            },
            "colorscale": [
             [
              0,
              "#0d0887"
             ],
             [
              0.1111111111111111,
              "#46039f"
             ],
             [
              0.2222222222222222,
              "#7201a8"
             ],
             [
              0.3333333333333333,
              "#9c179e"
             ],
             [
              0.4444444444444444,
              "#bd3786"
             ],
             [
              0.5555555555555556,
              "#d8576b"
             ],
             [
              0.6666666666666666,
              "#ed7953"
             ],
             [
              0.7777777777777778,
              "#fb9f3a"
             ],
             [
              0.8888888888888888,
              "#fdca26"
             ],
             [
              1,
              "#f0f921"
             ]
            ],
            "type": "histogram2d"
           }
          ],
          "histogram2dcontour": [
           {
            "colorbar": {
             "outlinewidth": 0,
             "ticks": ""
            },
            "colorscale": [
             [
              0,
              "#0d0887"
             ],
             [
              0.1111111111111111,
              "#46039f"
             ],
             [
              0.2222222222222222,
              "#7201a8"
             ],
             [
              0.3333333333333333,
              "#9c179e"
             ],
             [
              0.4444444444444444,
              "#bd3786"
             ],
             [
              0.5555555555555556,
              "#d8576b"
             ],
             [
              0.6666666666666666,
              "#ed7953"
             ],
             [
              0.7777777777777778,
              "#fb9f3a"
             ],
             [
              0.8888888888888888,
              "#fdca26"
             ],
             [
              1,
              "#f0f921"
             ]
            ],
            "type": "histogram2dcontour"
           }
          ],
          "mesh3d": [
           {
            "colorbar": {
             "outlinewidth": 0,
             "ticks": ""
            },
            "type": "mesh3d"
           }
          ],
          "parcoords": [
           {
            "line": {
             "colorbar": {
              "outlinewidth": 0,
              "ticks": ""
             }
            },
            "type": "parcoords"
           }
          ],
          "pie": [
           {
            "automargin": true,
            "type": "pie"
           }
          ],
          "scatter": [
           {
            "marker": {
             "line": {
              "color": "#283442"
             }
            },
            "type": "scatter"
           }
          ],
          "scatter3d": [
           {
            "line": {
             "colorbar": {
              "outlinewidth": 0,
              "ticks": ""
             }
            },
            "marker": {
             "colorbar": {
              "outlinewidth": 0,
              "ticks": ""
             }
            },
            "type": "scatter3d"
           }
          ],
          "scattercarpet": [
           {
            "marker": {
             "colorbar": {
              "outlinewidth": 0,
              "ticks": ""
             }
            },
            "type": "scattercarpet"
           }
          ],
          "scattergeo": [
           {
            "marker": {
             "colorbar": {
              "outlinewidth": 0,
              "ticks": ""
             }
            },
            "type": "scattergeo"
           }
          ],
          "scattergl": [
           {
            "marker": {
             "line": {
              "color": "#283442"
             }
            },
            "type": "scattergl"
           }
          ],
          "scattermapbox": [
           {
            "marker": {
             "colorbar": {
              "outlinewidth": 0,
              "ticks": ""
             }
            },
            "type": "scattermapbox"
           }
          ],
          "scatterpolar": [
           {
            "marker": {
             "colorbar": {
              "outlinewidth": 0,
              "ticks": ""
             }
            },
            "type": "scatterpolar"
           }
          ],
          "scatterpolargl": [
           {
            "marker": {
             "colorbar": {
              "outlinewidth": 0,
              "ticks": ""
             }
            },
            "type": "scatterpolargl"
           }
          ],
          "scatterternary": [
           {
            "marker": {
             "colorbar": {
              "outlinewidth": 0,
              "ticks": ""
             }
            },
            "type": "scatterternary"
           }
          ],
          "surface": [
           {
            "colorbar": {
             "outlinewidth": 0,
             "ticks": ""
            },
            "colorscale": [
             [
              0,
              "#0d0887"
             ],
             [
              0.1111111111111111,
              "#46039f"
             ],
             [
              0.2222222222222222,
              "#7201a8"
             ],
             [
              0.3333333333333333,
              "#9c179e"
             ],
             [
              0.4444444444444444,
              "#bd3786"
             ],
             [
              0.5555555555555556,
              "#d8576b"
             ],
             [
              0.6666666666666666,
              "#ed7953"
             ],
             [
              0.7777777777777778,
              "#fb9f3a"
             ],
             [
              0.8888888888888888,
              "#fdca26"
             ],
             [
              1,
              "#f0f921"
             ]
            ],
            "type": "surface"
           }
          ],
          "table": [
           {
            "cells": {
             "fill": {
              "color": "#506784"
             },
             "line": {
              "color": "rgb(17,17,17)"
             }
            },
            "header": {
             "fill": {
              "color": "#2a3f5f"
             },
             "line": {
              "color": "rgb(17,17,17)"
             }
            },
            "type": "table"
           }
          ]
         },
         "layout": {
          "annotationdefaults": {
           "arrowcolor": "#f2f5fa",
           "arrowhead": 0,
           "arrowwidth": 1
          },
          "autotypenumbers": "strict",
          "coloraxis": {
           "colorbar": {
            "outlinewidth": 0,
            "ticks": ""
           }
          },
          "colorscale": {
           "diverging": [
            [
             0,
             "#8e0152"
            ],
            [
             0.1,
             "#c51b7d"
            ],
            [
             0.2,
             "#de77ae"
            ],
            [
             0.3,
             "#f1b6da"
            ],
            [
             0.4,
             "#fde0ef"
            ],
            [
             0.5,
             "#f7f7f7"
            ],
            [
             0.6,
             "#e6f5d0"
            ],
            [
             0.7,
             "#b8e186"
            ],
            [
             0.8,
             "#7fbc41"
            ],
            [
             0.9,
             "#4d9221"
            ],
            [
             1,
             "#276419"
            ]
           ],
           "sequential": [
            [
             0,
             "#0d0887"
            ],
            [
             0.1111111111111111,
             "#46039f"
            ],
            [
             0.2222222222222222,
             "#7201a8"
            ],
            [
             0.3333333333333333,
             "#9c179e"
            ],
            [
             0.4444444444444444,
             "#bd3786"
            ],
            [
             0.5555555555555556,
             "#d8576b"
            ],
            [
             0.6666666666666666,
             "#ed7953"
            ],
            [
             0.7777777777777778,
             "#fb9f3a"
            ],
            [
             0.8888888888888888,
             "#fdca26"
            ],
            [
             1,
             "#f0f921"
            ]
           ],
           "sequentialminus": [
            [
             0,
             "#0d0887"
            ],
            [
             0.1111111111111111,
             "#46039f"
            ],
            [
             0.2222222222222222,
             "#7201a8"
            ],
            [
             0.3333333333333333,
             "#9c179e"
            ],
            [
             0.4444444444444444,
             "#bd3786"
            ],
            [
             0.5555555555555556,
             "#d8576b"
            ],
            [
             0.6666666666666666,
             "#ed7953"
            ],
            [
             0.7777777777777778,
             "#fb9f3a"
            ],
            [
             0.8888888888888888,
             "#fdca26"
            ],
            [
             1,
             "#f0f921"
            ]
           ]
          },
          "colorway": [
           "#636efa",
           "#EF553B",
           "#00cc96",
           "#ab63fa",
           "#FFA15A",
           "#19d3f3",
           "#FF6692",
           "#B6E880",
           "#FF97FF",
           "#FECB52"
          ],
          "font": {
           "color": "#f2f5fa"
          },
          "geo": {
           "bgcolor": "rgb(17,17,17)",
           "lakecolor": "rgb(17,17,17)",
           "landcolor": "rgb(17,17,17)",
           "showlakes": true,
           "showland": true,
           "subunitcolor": "#506784"
          },
          "hoverlabel": {
           "align": "left"
          },
          "hovermode": "closest",
          "mapbox": {
           "style": "dark"
          },
          "paper_bgcolor": "rgb(17,17,17)",
          "plot_bgcolor": "rgb(17,17,17)",
          "polar": {
           "angularaxis": {
            "gridcolor": "#506784",
            "linecolor": "#506784",
            "ticks": ""
           },
           "bgcolor": "rgb(17,17,17)",
           "radialaxis": {
            "gridcolor": "#506784",
            "linecolor": "#506784",
            "ticks": ""
           }
          },
          "scene": {
           "xaxis": {
            "backgroundcolor": "rgb(17,17,17)",
            "gridcolor": "#506784",
            "gridwidth": 2,
            "linecolor": "#506784",
            "showbackground": true,
            "ticks": "",
            "zerolinecolor": "#C8D4E3"
           },
           "yaxis": {
            "backgroundcolor": "rgb(17,17,17)",
            "gridcolor": "#506784",
            "gridwidth": 2,
            "linecolor": "#506784",
            "showbackground": true,
            "ticks": "",
            "zerolinecolor": "#C8D4E3"
           },
           "zaxis": {
            "backgroundcolor": "rgb(17,17,17)",
            "gridcolor": "#506784",
            "gridwidth": 2,
            "linecolor": "#506784",
            "showbackground": true,
            "ticks": "",
            "zerolinecolor": "#C8D4E3"
           }
          },
          "shapedefaults": {
           "line": {
            "color": "#f2f5fa"
           }
          },
          "sliderdefaults": {
           "bgcolor": "#C8D4E3",
           "bordercolor": "rgb(17,17,17)",
           "borderwidth": 1,
           "tickwidth": 0
          },
          "ternary": {
           "aaxis": {
            "gridcolor": "#506784",
            "linecolor": "#506784",
            "ticks": ""
           },
           "baxis": {
            "gridcolor": "#506784",
            "linecolor": "#506784",
            "ticks": ""
           },
           "bgcolor": "rgb(17,17,17)",
           "caxis": {
            "gridcolor": "#506784",
            "linecolor": "#506784",
            "ticks": ""
           }
          },
          "title": {
           "x": 0.05
          },
          "updatemenudefaults": {
           "bgcolor": "#506784",
           "borderwidth": 0
          },
          "xaxis": {
           "automargin": true,
           "gridcolor": "#283442",
           "linecolor": "#506784",
           "ticks": "",
           "title": {
            "standoff": 15
           },
           "zerolinecolor": "#283442",
           "zerolinewidth": 2
          },
          "yaxis": {
           "automargin": true,
           "gridcolor": "#283442",
           "linecolor": "#506784",
           "ticks": "",
           "title": {
            "standoff": 15
           },
           "zerolinecolor": "#283442",
           "zerolinewidth": 2
          }
         }
        },
        "title": {
         "text": "Cantidad de Hectareas Dañadas por Mes y Región (2014)"
        },
        "updatemenus": [
         {
          "buttons": [
           {
            "args": [
             {
              "x": [
               [
                "III",
                "IV",
                "V",
                "RM",
                "VI",
                "VII",
                "VIII",
                "IX",
                "XIV",
                "X",
                "XI",
                "XII"
               ]
              ],
              "y": [
               [
                0,
                7.4,
                1270.7,
                297.8,
                125.5,
                312.5,
                1272,
                251.3,
                7.7,
                19.3,
                8.2,
                0
               ],
               [
                0,
                20.7,
                341.1,
                869.9,
                5082.4,
                17115.6,
                4412.3,
                6082.8,
                65.7,
                2365.5,
                3.3,
                0.1
               ],
               [
                0,
                25.7,
                800.7,
                221.9,
                3635.1,
                4551.3,
                24544.2,
                18759.4,
                390.9,
                1842.9,
                66.6,
                3.1
               ],
               [
                0,
                74,
                849.9,
                687.8,
                747.3,
                1281,
                4786.5,
                20708.2,
                296.7,
                652.5,
                0.2,
                0.9
               ]
              ]
             },
             {
              "title": "Cantidad de Hectareas Dañadas por Mes y Región (2014)",
              "xaxis.categoryorder": "total ascending"
             }
            ],
            "label": "2014",
            "method": "update"
           },
           {
            "args": [
             {
              "x": [
               [
                "III",
                "IV",
                "V",
                "RM",
                "VI",
                "VII",
                "VIII",
                "IX",
                "XIV",
                "X",
                "XI",
                "XII"
               ]
              ],
              "y": [
               [
                51.6,
                37.4,
                276.4,
                1459.9,
                540.1,
                587.5,
                321.8,
                99.2,
                22.5,
                19.6,
                13.7,
                0
               ],
               [
                12.4,
                21.4,
                1164.1,
                356,
                1030.6,
                517.6,
                1862.5,
                1299.5,
                116.9,
                159.3,
                201.9,
                128.5
               ],
               [
                32.2,
                85.3,
                1429.1,
                529.6,
                1616.4,
                765.2,
                2622.1,
                7114.4,
                350.2,
                315.7,
                2311.4,
                4.8
               ],
               [
                0.7,
                3.5,
                859.1,
                249.3,
                376.9,
                366.7,
                2509.4,
                3484.9,
                495.9,
                1834.1,
                2001.8,
                0.5
               ]
              ]
             },
             {
              "title": "Cantidad de Hectareas Dañadas por Mes y Región (2015)",
              "xaxis.categoryorder": "total ascending"
             }
            ],
            "label": "2015",
            "method": "update"
           },
           {
            "args": [
             {
              "x": [
               [
                "XV",
                "I",
                "II",
                "III",
                "IV",
                "V",
                "RM",
                "VI",
                "VII",
                "VIII",
                "IX",
                "XIV",
                "X",
                "XI",
                "XII"
               ]
              ],
              "y": [
               [
                0,
                0,
                0,
                1.6,
                165.6,
                8141.9,
                5010.5,
                13565.7,
                7017.1,
                878.9,
                91.5,
                1.2,
                4.6,
                0.3,
                32.9
               ],
               [
                0.5,
                0,
                0,
                0,
                3165.7,
                12272.5,
                31415.1,
                83063.3,
                241211.6,
                114822.5,
                7226.8,
                14.1,
                21,
                0,
                0.6
               ],
               [
                0,
                0,
                0,
                0,
                16.7,
                982.1,
                513.1,
                443.2,
                3077.2,
                2336.5,
                459.5,
                68.2,
                56.5,
                0,
                1.5
               ],
               [
                0,
                0,
                0,
                1.8,
                19.8,
                948.2,
                81.3,
                973.6,
                567,
                618.1,
                274.4,
                2,
                5.7,
                0,
                0
               ]
              ]
             },
             {
              "title": "Cantidad de Hectareas Dañadas por Mes y Región (2016)",
              "xaxis.categoryorder": "total ascending"
             }
            ],
            "label": "2016",
            "method": "update"
           },
           {
            "args": [
             {
              "x": [
               [
                "XV",
                "I",
                "II",
                "III",
                "IV",
                "V",
                "RM",
                "VI",
                "VII",
                "VIII",
                "IX",
                "XIV",
                "X",
                "XI",
                "XII"
               ]
              ],
              "y": [
               [
                2.5,
                0,
                0,
                7,
                109.3,
                1059,
                1817.2,
                928.3,
                312.9,
                556.9,
                196.3,
                5.2,
                32.3,
                9.2,
                0.1
               ],
               [
                0,
                0,
                0,
                20,
                67.4,
                966,
                1314.5,
                316.3,
                745.5,
                2246.8,
                7315,
                354.4,
                363,
                5,
                101
               ],
               [
                0.75,
                0,
                0,
                22.6,
                646.6,
                1331.7,
                491.8,
                198.9,
                882.7,
                1892.5,
                4696.5,
                38.1,
                41.4,
                3,
                0
               ],
               [
                0,
                0,
                0,
                0.6,
                37.8,
                847,
                547.4,
                581.5,
                613.9,
                1771.4,
                1547.2,
                24.4,
                23.3,
                2.4,
                0
               ]
              ]
             },
             {
              "title": "Cantidad de Hectareas Dañadas por Mes y Región (2017)",
              "xaxis.categoryorder": "total ascending"
             }
            ],
            "label": "2017",
            "method": "update"
           },
           {
            "args": [
             {
              "x": [
               [
                "XV",
                "I",
                "II",
                "III",
                "IV",
                "V",
                "RM",
                "VI",
                "VII",
                "XVI",
                "VIII",
                "IX",
                "XIV",
                "X",
                "XI",
                "XII"
               ]
              ],
              "y": [
               [
                0,
                0,
                0,
                1.5,
                8.3,
                299.7,
                951.3,
                184.4,
                193.4,
                42.4,
                374.8,
                302.7,
                2.7,
                22.9,
                0.1,
                5
               ],
               [
                2.34,
                0,
                0,
                10.4,
                41.8,
                2933.2,
                446,
                1282.1,
                1104.6,
                805.2,
                1563.7,
                1308,
                8.9,
                18,
                1.2,
                48.4
               ],
               [
                0,
                0,
                0,
                0.8,
                12.8,
                276.1,
                775.4,
                1515.1,
                3126.2,
                1017.4,
                7552,
                19290.3,
                424.1,
                1178.3,
                15356.8,
                0.4
               ],
               [
                1.05,
                0,
                0,
                0.4,
                40.4,
                75.2,
                57.1,
                1672.4,
                2434,
                1253,
                479.9,
                6112.7,
                100.5,
                29.1,
                0.1,
                0.2
               ]
              ]
             },
             {
              "title": "Cantidad de Hectareas Dañadas por Mes y Región (2018)",
              "xaxis.categoryorder": "total ascending"
             }
            ],
            "label": "2018",
            "method": "update"
           },
           {
            "args": [
             {
              "x": [
               [
                "XV",
                "I",
                "II",
                "III",
                "IV",
                "V",
                "RM",
                "VI",
                "VII",
                "XVI",
                "VIII",
                "IX",
                "XIV",
                "X",
                "XI",
                "XII"
               ]
              ],
              "y": [
               [
                0.52,
                0,
                50.08,
                21.4,
                2,
                1437.3,
                2594.7,
                1282.6,
                1930.9,
                74.8,
                983.5,
                684.6,
                4,
                8.6,
                0.1,
                0
               ],
               [
                0,
                0,
                0,
                0,
                3.9,
                115.5,
                23.6,
                210.1,
                1166.9,
                1148.7,
                7727.9,
                10686.8,
                126.7,
                13.5,
                0,
                0.1
               ],
               [
                0,
                0,
                0.15,
                2,
                1.2,
                91,
                70.3,
                2388.6,
                17287.9,
                562.8,
                4429.5,
                13773.9,
                374.9,
                90.5,
                0,
                0
               ],
               [
                0,
                0,
                0,
                0.1,
                3.8,
                55.4,
                26.7,
                121.6,
                502.4,
                263,
                1905.7,
                13651,
                43.9,
                26.5,
                0,
                11.2
               ]
              ]
             },
             {
              "title": "Cantidad de Hectareas Dañadas por Mes y Región (2019)",
              "xaxis.categoryorder": "total ascending"
             }
            ],
            "label": "2019",
            "method": "update"
           },
           {
            "args": [
             {
              "x": [
               [
                "XV",
                "I",
                "II",
                "III",
                "IV",
                "V",
                "RM",
                "VI",
                "VII",
                "XVI",
                "VIII",
                "IX",
                "XIV",
                "X",
                "XI",
                "XII"
               ]
              ],
              "y": [
               [
                0,
                0,
                0.03,
                0,
                5,
                617.5,
                137.8,
                124.8,
                511.2,
                281.1,
                595.9,
                364.3,
                5.6,
                6.8,
                0.6,
                0.3
               ],
               [
                1,
                2.5,
                0.3,
                0.1,
                30.5,
                4969.5,
                217.2,
                1250.7,
                2932.2,
                728.5,
                3417.9,
                4860.9,
                19.4,
                257.6,
                0.1,
                3.5
               ],
               [
                0,
                0,
                0,
                0.2,
                12.8,
                47.1,
                493.3,
                11.4,
                83,
                50.9,
                408.2,
                3351.4,
                116.1,
                289.2,
                9.5,
                0.9
               ],
               [
                7,
                0,
                0,
                0,
                2.5,
                463.9,
                13.3,
                30.7,
                141.9,
                178.6,
                583.4,
                2325.8,
                70.2,
                191.8,
                22,
                316.9
               ]
              ]
             },
             {
              "title": "Cantidad de Hectareas Dañadas por Mes y Región (2020)",
              "xaxis.categoryorder": "total ascending"
             }
            ],
            "label": "2020",
            "method": "update"
           },
           {
            "args": [
             {
              "x": [
               [
                "XV",
                "I",
                "II",
                "III",
                "IV",
                "V",
                "RM",
                "VI",
                "VII",
                "XVI",
                "VIII",
                "IX",
                "XIV",
                "X",
                "XI",
                "XII"
               ]
              ],
              "y": [
               [
                20.15,
                0,
                0,
                9.9,
                1.3,
                283.8,
                37.9,
                1623.8,
                346.8,
                2523.8,
                1655.5,
                21234,
                57.8,
                184.1,
                6.7,
                5.5
               ],
               [
                0,
                0,
                0,
                1.2,
                368.6,
                360.4,
                67.4,
                3361.3,
                937.2,
                586.5,
                541.4,
                2782.6,
                21.5,
                64.8,
                0.1,
                1171.9
               ],
               [
                0.2,
                0,
                0,
                0,
                183.2,
                766.6,
                15.1,
                199.6,
                2399.3,
                3502.7,
                13539.4,
                45020.5,
                387.1,
                443.1,
                0.8,
                0
               ],
               [
                0,
                0,
                0,
                0.2,
                53.3,
                380.6,
                96.1,
                195.3,
                549.2,
                3044.3,
                7037.1,
                1537.4,
                1.3,
                3.2,
                2,
                0
               ]
              ]
             },
             {
              "title": "Cantidad de Hectareas Dañadas por Mes y Región (2021)",
              "xaxis.categoryorder": "total ascending"
             }
            ],
            "label": "2021",
            "method": "update"
           }
          ],
          "name": "Seleccionar Año",
          "type": "dropdown"
         }
        ],
        "xaxis": {
         "anchor": "y",
         "domain": [
          0,
          1
         ],
         "title": {
          "text": "Region"
         }
        },
        "yaxis": {
         "anchor": "x",
         "domain": [
          0,
          1
         ],
         "title": {
          "text": "Cantidad de Hectareas"
         }
        }
       }
      }
     },
     "metadata": {},
     "output_type": "display_data"
    }
   ],
   "source": [
    "selected_year = years[0]\n",
    "fig = px.bar(lista_hectareas[selected_year], x=lista_hectareas[selected_year].index, y=lista_hectareas[selected_year].columns,\n",
    "             title=f'Cantidad de Hectareas Dañadas por Mes y Región ({selected_year})',\n",
    "             labels={'value': 'Cantidad de Hectareas', 'variable': 'Mes'},\n",
    "             template='plotly_dark', barmode='group')\n",
    "\n",
    "fig.update_layout(updatemenus=[{'type': 'dropdown',\n",
    "                                'name': 'Seleccionar Año',\n",
    "                                'buttons': [{'label': str(year),\n",
    "                                             'method': 'update',\n",
    "                                             'args': [{'x': [lista_hectareas[year].index],\n",
    "                                                       'y': [lista_hectareas[year][col] for col in lista_hectareas[year].columns]},\n",
    "                                                      {'xaxis.categoryorder': 'total ascending',\n",
    "                                                       'title': f'Cantidad de Hectareas Dañadas por Mes y Región ({year})'}]}\n",
    "                                            for year in years]}])\n",
    "\n",
    "fig.update_xaxes(title_text='Region')\n",
    "fig.show()"
   ]
  },
  {
   "cell_type": "markdown",
   "metadata": {},
   "source": [
    "# **Razón de Peligro:**\n",
    "---\n",
    "Se calculará la razón de peligro de una región a la fracción de la cantidad de hectáreas dañadas por la cantidad de incendios ocurridos, la idea es dar importancia a los incencios con mayor área y daño.\n",
    "\n",
    "$$\\Delta_{region} = \\frac{\\alpha_{hectareas}}{\\beta_{Incencios}} = \\frac{\\text{Cantidad de Hectareas}}{\\text{Cantidad de Incendios}} \\hspace{1cm} \\forall region \\in \\text{Regiones de Chile}$$"
   ]
  },
  {
   "cell_type": "code",
   "execution_count": 93,
   "metadata": {},
   "outputs": [],
   "source": [
    "lista_peligro = {}\n",
    "for year in years:\n",
    "    peligro = lista_hectareas[year].copy()\n",
    "    for mes in peligro.columns:\n",
    "        peligro[mes] = peligro[mes].divide(other=lista_incendios[year][mes])\n",
    "        peligro[mes] = peligro[mes].fillna(0)\n",
    "    lista_peligro[year] = peligro"
   ]
  },
  {
   "cell_type": "code",
   "execution_count": 94,
   "metadata": {},
   "outputs": [],
   "source": [
    "dict_regiones = {15: 'XV', 1: 'I', 2: 'II', 3: 'III', 4: 'IV', 5: 'V', 13: 'RM', 6: 'VI', 7: 'VII', \n",
    "                 16: 'XVI', 8: 'VIII', 9: 'IX', 14: 'XIV', 10: 'X', 11: 'XI', 12: 'XII'}"
   ]
  },
  {
   "cell_type": "code",
   "execution_count": 95,
   "metadata": {},
   "outputs": [],
   "source": [
    "regiones = gpd.read_file('Data/Regiones/Regional.shp')\n",
    "regiones = regiones[['codregion', 'Region', 'geometry']].drop(16)"
   ]
  },
  {
   "cell_type": "code",
   "execution_count": 96,
   "metadata": {},
   "outputs": [],
   "source": [
    "regiones_2014 = regiones.copy()\n",
    "regiones_2014['Riesgo DICIEMBRE'] = [lista_peligro[2014]['DICIEMBRE'][dict_regiones[region]] if dict_regiones[region] in lista_peligro[2014].index else np.nan for region in regiones_2014['codregion']]\n",
    "regiones_2014['Riesgo ENERO'] = [lista_peligro[2014]['ENERO'][dict_regiones[region]] if dict_regiones[region] in lista_peligro[2014].index else np.nan for region in regiones_2014['codregion']]\n",
    "regiones_2014['Riesgo FEBRERO'] = [lista_peligro[2014]['FEBRERO'][dict_regiones[region]] if dict_regiones[region] in lista_peligro[2014].index else np.nan for region in regiones_2014['codregion']]\n",
    "regiones_2014['Riesgo MARZO'] = [lista_peligro[2014]['MARZO'][dict_regiones[region]] if dict_regiones[region] in lista_peligro[2014].index else np.nan for region in regiones_2014['codregion']]"
   ]
  },
  {
   "cell_type": "code",
   "execution_count": 97,
   "metadata": {},
   "outputs": [
    {
     "data": {
      "image/png": "[encoded data removed]",
      "text/plain": [
       "<Figure size 1000x1000 with 8 Axes>"
      ]
     },
     "metadata": {},
     "output_type": "display_data"
    }
   ],
   "source": [
    "#Crear figura y ejes\n",
    "fig, ax = plt.subplots(2, 2, figsize=(10,10))\n",
    "\n",
    "divider = make_axes_locatable(ax[0][0])\n",
    "cax = divider.append_axes(\"right\", size=\"5%\", pad=0.1)\n",
    "\n",
    "vmax=lista_peligro[2014]['DICIEMBRE'].max()\n",
    "regiones_2014.plot(ax=ax[0][0], column='Riesgo DICIEMBRE', cmap='Reds',legend=True, vmin=0, vmax=vmax, cax=cax)\n",
    "ax[0][0].set_title('Riesgo de Incendios por Región - DICIEMBRE 2014',fontsize=10)\n",
    "\n",
    "divider = make_axes_locatable(ax[0][1])\n",
    "cax = divider.append_axes(\"right\", size=\"5%\", pad=0.1)\n",
    "\n",
    "vmax=lista_peligro[2014]['ENERO'].max()\n",
    "regiones_2014.plot(ax=ax[0][1], column='Riesgo ENERO', cmap='Reds',legend=True, vmin=0, vmax=vmax, cax=cax)\n",
    "ax[0][1].set_title('Riesgo de Incendios por Región - ENERO 2014',fontsize=10)\n",
    "\n",
    "divider = make_axes_locatable(ax[1][0])\n",
    "cax = divider.append_axes(\"right\", size=\"5%\", pad=0.1)\n",
    "\n",
    "vmax=lista_peligro[2014]['FEBRERO'].max()\n",
    "regiones_2014.plot(ax=ax[1][0], column='Riesgo FEBRERO', cmap='Reds',legend=True, vmin=0, vmax=vmax, cax=cax)\n",
    "ax[1][0].set_title('Riesgo de Incendios por Región - FEBRERO 2014',fontsize=10)\n",
    "\n",
    "divider = make_axes_locatable(ax[1][1])\n",
    "cax = divider.append_axes(\"right\", size=\"5%\", pad=0.1)\n",
    "\n",
    "vmax=lista_peligro[2014]['MARZO'].max()\n",
    "regiones_2014.plot(ax=ax[1][1], column='Riesgo MARZO', cmap='Reds',legend=True, vmin=0, vmax=vmax, cax=cax)\n",
    "ax[1][1].set_title('Riesgo de Incendios por Región - MARZO 2014',fontsize=10)\n",
    "\n",
    "limites = regiones.boundary\n",
    "limites.plot(ax=ax[0][0],lw=0.5,color='k');\n",
    "limites.plot(ax=ax[1][0],lw=0.5,color='k');\n",
    "limites.plot(ax=ax[0][1],lw=0.5,color='k');\n",
    "limites.plot(ax=ax[1][1],lw=0.5,color='k');"
   ]
  }
 ],
 "metadata": {
  "kernelspec": {
   "display_name": "Python 3",
   "language": "python",
   "name": "python3"
  },
  "language_info": {
   "codemirror_mode": {
    "name": "ipython",
    "version": 3
   },
   "file_extension": ".py",
   "mimetype": "text/x-python",
   "name": "python",
   "nbconvert_exporter": "python",
   "pygments_lexer": "ipython3",
   "version": "3.11.3"
  }
 },
 "nbformat": 4,
 "nbformat_minor": 2
}
